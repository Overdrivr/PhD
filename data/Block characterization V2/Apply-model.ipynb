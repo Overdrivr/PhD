{
 "cells": [
  {
   "cell_type": "code",
   "execution_count": 2,
   "metadata": {
    "collapsed": true
   },
   "outputs": [],
   "source": [
    "import matplotlib.pyplot as plt\n",
    "import numpy as np\n",
    "import matplotlib.pyplot as plt\n",
    "import os\n",
    "import collections\n",
    "import pandas as pd\n",
    "import seaborn as sns\n",
    "import matplotlib as mp\n",
    "from matplotlib.ticker import FormatStrFormatter\n",
    "from matplotlib.colors import LogNorm\n",
    "\n",
    "sns.set()"
   ]
  },
  {
   "cell_type": "markdown",
   "metadata": {},
   "source": [
    "# Data files\n",
    "* V2 files are used by the plots for the PhD report\n",
    "* V3 files are the same data with extended ranges for applying the models \n",
    "* V4 files are the same data + 1 additionnal column that contains the average input amplitude during the pulse"
   ]
  },
  {
   "cell_type": "code",
   "execution_count": 22,
   "metadata": {
    "collapsed": false,
    "scrolled": false
   },
   "outputs": [
    {
     "name": "stdout",
     "output_type": "stream",
     "text": [
      "105 105\n",
      "## Model: cz_vpre_V4_50p.csv\n",
      "Width : 1.251620E+00 (ns) -> 3.252150E+03 (ns)\n",
      "Amplitude : -1.148230E+01 (V) -> 7.244750E+00 (V)\n",
      "39 39\n",
      "## Model: cz_bandgap_V4_50p.csv\n",
      "Width : 1.121940E-01 (ns) -> 1.093030E+04 (ns)\n",
      "Amplitude : -3.642100E+00 (V) -> 8.508560E-01 (V)\n",
      "150 150\n",
      "## Model: cz_regulator_V4_50p.csv\n",
      "Width : 4.130000E+02 (ns) -> 9.493150E+03 (ns)\n",
      "Amplitude : 1.269850E+00 (V) -> 2.463150E+00 (V)\n"
     ]
    }
   ],
   "source": [
    "# Read simulation files\n",
    "def datafileread(measurename,skipfirstrows):\n",
    "    # Reading Datafiles\n",
    "    path = measurename\n",
    "    data = np.genfromtxt(path,\n",
    "                        skip_header=skipfirstrows,\n",
    "                        delimiter=',',\n",
    "                        dtype=(float,float),\n",
    "                        unpack=True)\n",
    "    return data\n",
    "\n",
    "def loadModel(filename, skiprows, decimals=1, useRawInput=False):\n",
    "    # measurement\n",
    "    tlp_v,tlp_length,nominal,amplitude,width,input_amplitude = datafileread(filename,skiprows)\n",
    "\n",
    "    tlp_length = np.round(tlp_length * 1e9, decimals=1)\n",
    "    width *= 1e9\n",
    "    \n",
    "    input_amplitude = np.round(input_amplitude, decimals=decimals)\n",
    "    \n",
    "    if useRawInput:\n",
    "        input_amplitude = tlp_v\n",
    "    \n",
    "    print(\"%d %d\" % (len(np.unique(input_amplitude)), len(np.unique(tlp_v))))\n",
    "    assert len(np.unique(input_amplitude)) == len(np.unique(tlp_v))\n",
    "    \n",
    "    print(\"## Model: %s\" % filename)\n",
    "\n",
    "    \n",
    "    df_amplitude = pd.DataFrame({'x': tlp_length, 'y': input_amplitude, 'z': amplitude})\n",
    "    df_amplitude = df_amplitude.pivot(index='y',columns='x', values='z')\n",
    "    df_amplitude = df_amplitude.dropna()\n",
    "\n",
    "    df_width = pd.DataFrame({'x': tlp_length, 'y': input_amplitude, 'z': width})\n",
    "    df_width = df_width.pivot(index='y',columns='x', values='z')\n",
    "    df_width = df_width.dropna()\n",
    "    \n",
    "    print(\"Width : %E (ns) -> %E (ns)\" % (df_width.values.min(), df_width.values.max()))\n",
    "    print(\"Amplitude : %E (V) -> %E (V)\" % (df_amplitude.values.min(), df_amplitude.values.max()))\n",
    "    \n",
    "    return df_amplitude, df_width\n",
    "\n",
    "def findClosest(dataframe, xin, yin):\n",
    "    xnearest = dataframe.columns.map(lambda x: abs(xin-x)).argsort()\n",
    "    ynearest = dataframe.index.map(lambda y: abs(yin-y)).argsort()\n",
    "    return xnearest[0], ynearest[0]\n",
    "\n",
    "def findNextPair(df_x, df_y, xin, yin):\n",
    "    #\n",
    "    x,y = findClosest(df_x, xin, yin)\n",
    "    #print(df_x.columns)\n",
    "    #print(\"x[%f vs %f] (ns) & y[%f vs %f] (V)\" % (xin, df_x.columns[x],yin, df_x.index[y]))\n",
    "    print(\"d %f vs %f (ns)\" % (xin, df_x.columns[x]))\n",
    "    print(\"d %f vs %f (V)\" % (yin, df_x.index[y]))\n",
    "    \n",
    "    if x <= 0 or x >= len(df_x.columns) - 1:\n",
    "        print(\"Warning : x index (%d) at boundary\" % x)\n",
    "        \n",
    "    if y <= 0 or y >= len(df_x.index) - 1:\n",
    "        print(\"Warning : y index (%d) at boundary\" % y)\n",
    "       \n",
    "        \n",
    "    outputX = df_x.iloc[y,x]\n",
    "    \n",
    "    #\n",
    "    x,y = findClosest(df_y, xin, yin)\n",
    "    #print(df_x.index)\n",
    "    #print(\"x[%f vs %f] (ns) & y[%f vs %f] (V)\" % (xin, df_y.columns[x],yin, df_y.index[y]))\n",
    "    outputY = df_y.iloc[y,x]\n",
    "   \n",
    "        \n",
    "    if x <= 0 or x >= len(df_y.columns) - 1:\n",
    "        print(\"Warning : x index (%d) at boundary\" % x)\n",
    "        #print(\"%f vs %f (ns)\" % (xin, df_y.columns[x]))\n",
    "       \n",
    "    \n",
    "    if y <= 0 or y >= len(df_y.index) - 1:\n",
    "        print(\"Warning : y index (%d) at boundary\" % y)\n",
    "        #print(\"%f vs %f (ns)\" % (yin, df_y.index[y]))\n",
    "        \n",
    "    \n",
    "    return outputX, outputY\n",
    "\n",
    "vpre_df_amp, vpre_df_width = loadModel('cz_vpre_V4_50p.csv', 19, useRawInput=True)\n",
    "bg_df_amp, bg_df_width = loadModel('cz_bandgap_V4_50p.csv', 14)\n",
    "reg_df_amp, reg_df_width = loadModel('cz_regulator_V4_50p.csv', 14, decimals=4)"
   ]
  },
  {
   "cell_type": "code",
   "execution_count": 24,
   "metadata": {
    "collapsed": false
   },
   "outputs": [
    {
     "name": "stdout",
     "output_type": "stream",
     "text": [
      "d 100.000000 vs 92.400000 (ns)\n",
      "d -50.000000 vs -49.000000 (V)\n",
      "Vpre done\n",
      "d 711.280000 vs 727.900000 (ns)\n",
      "d -4.311850 vs -4.200000 (V)\n",
      "Warning : y index (0) at boundary\n",
      "Warning : y index (0) at boundary\n",
      "Bandgap done\n",
      "d 728.000000 vs 672.300000 (ns)\n",
      "d -3.642100 vs -0.963600 (V)\n",
      "Warning : y index (0) at boundary\n",
      "Warning : y index (0) at boundary\n",
      "##                       Vpre output values : (711 ns, -4.31 V)\n",
      "##                    Bandgap output values : (728 ns, -3.64 V)\n",
      "##                  Regulator output values : (1026 ns, 2.31 V)\n"
     ]
    }
   ],
   "source": [
    "# Input TLP stress characteristics\n",
    "\n",
    "inputX = 100 # ns\n",
    "inputY = -50 # V\n",
    "\n",
    "# Apply the models\n",
    "\n",
    "pair1 = findNextPair(vpre_df_width, vpre_df_amp, inputX, inputY)\n",
    "print(\"Vpre done\")\n",
    "pair2 = findNextPair(bg_df_width, bg_df_amp, pair1[0], pair1[1])\n",
    "print(\"Bandgap done\")\n",
    "pair3 = findNextPair(reg_df_width, reg_df_amp, pair2[0], pair2[1])\n",
    "\n",
    "print(\"##                       Vpre output values : (%.0f ns, %.2f V)\" % pair1)\n",
    "print(\"##                    Bandgap output values : (%.0f ns, %.2f V)\" % pair2)\n",
    "print(\"##                  Regulator output values : (%.0f ns, %.2f V)\" % pair3)"
   ]
  }
 ],
 "metadata": {
  "anaconda-cloud": {},
  "kernelspec": {
   "display_name": "Python [conda root]",
   "language": "python",
   "name": "conda-root-py"
  },
  "language_info": {
   "codemirror_mode": {
    "name": "ipython",
    "version": 3
   },
   "file_extension": ".py",
   "mimetype": "text/x-python",
   "name": "python",
   "nbconvert_exporter": "python",
   "pygments_lexer": "ipython3",
   "version": "3.5.1"
  }
 },
 "nbformat": 4,
 "nbformat_minor": 1
}
