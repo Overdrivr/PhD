{
 "cells": [
  {
   "cell_type": "code",
   "execution_count": 1,
   "metadata": {
    "collapsed": true
   },
   "outputs": [],
   "source": [
    "import matplotlib.pyplot as plt\n",
    "import numpy as np\n",
    "import numpy as np\n",
    "import matplotlib.pyplot as plt\n",
    "import os\n",
    "import collections\n",
    "import pandas as pd\n",
    "import seaborn as sns\n",
    "import matplotlib as mp\n",
    "from matplotlib.ticker import FormatStrFormatter\n",
    "from matplotlib.colors import LogNorm\n",
    "\n",
    "sns.set()"
   ]
  },
  {
   "cell_type": "code",
   "execution_count": 111,
   "metadata": {
    "collapsed": false,
    "scrolled": false
   },
   "outputs": [
    {
     "name": "stdout",
     "output_type": "stream",
     "text": [
      "## Model: cz_vpre_V2.csv\n",
      "Width : 7.761300E-01 (ns) -> 1.548790E+03 (ns)\n",
      "Amplitude : -5.000000E+01 (V) -> -2.000000E+00 (V)\n",
      "## Model: cz_bandgap_V2.csv\n",
      "Width : 2.640160E-02 (ns) -> 9.957310E+03 (ns)\n",
      "Amplitude : -6.000000E+00 (V) -> 8.000000E+00 (V)\n",
      "## Model: cz_regulator_V2.csv\n",
      "Width : -1.455830E+04 (ns) -> 5.676870E+03 (ns)\n",
      "Amplitude : -1.000000E+00 (V) -> 9.000000E-01 (V)\n"
     ]
    }
   ],
   "source": [
    "# Read simulation files\n",
    "def datafileread(measurename,skipfirstrows):\n",
    "    # Reading Datafiles\n",
    "    path = measurename\n",
    "    data = np.genfromtxt(path,\n",
    "                        skip_header=skipfirstrows,\n",
    "                        delimiter=',',\n",
    "                        dtype=(float,float),\n",
    "                        unpack=True)\n",
    "    return data\n",
    "\n",
    "def loadModel(filename, skiprows, offset=0):\n",
    "    # measurement\n",
    "    tlp_v,tlp_length,nominal,amplitude,width = datafileread(filename,skiprows)\n",
    "\n",
    "    tlp_length = np.round(tlp_length * 1e9, decimals=1)\n",
    "    width *= 1e9\n",
    "\n",
    "    # Add DC voltage value\n",
    "    # It's a simplification over the actual input voltage\n",
    "    # but we need consistent values for the x-axis otherwise the x-values cannot be matched from one simulation to another \n",
    "    tlp_v += offset\n",
    "    \n",
    "    print(\"## Model: %s\" % filename)\n",
    "    print(\"Width : %E (ns) -> %E (ns)\" % (np.amin(width), np.amax(width)))\n",
    "    print(\"Amplitude : %E (V) -> %E (V)\" % (np.amin(tlp_v), np.amax(tlp_v)))\n",
    "    \n",
    "    df_amplitude = pd.DataFrame({'x': tlp_length, 'y': tlp_v, 'z': amplitude})\n",
    "    df_amplitude = df_amplitude.pivot(index='y',columns='x', values='z')\n",
    "\n",
    "    df_width = pd.DataFrame({'x': tlp_length, 'y': tlp_v, 'z': width})\n",
    "    df_width = df_width.pivot(index='y',columns='x', values='z')\n",
    "    \n",
    "    return df_amplitude, df_width\n",
    "\n",
    "def findClosest(dataframe, xin, yin):\n",
    "    xnearest = dataframe.columns.map(lambda x: abs(xin-x)).argsort()\n",
    "    ynearest = dataframe.index.map(lambda y: abs(yin-y)).argsort()\n",
    "    return xnearest[0], ynearest[0]\n",
    "\n",
    "def findNextPair(df_x, df_y, xin, yin):\n",
    "    #\n",
    "    x,y = findClosest(df_x, xin, yin)\n",
    "    #print(df_x.columns)\n",
    "    #print(\"x[%f vs %f] (ns) & y[%f vs %f] (V)\" % (xin, df_x.columns[x],yin, df_x.index[y]))\n",
    "    print(\"d %f vs %f (ns)\" % (xin, df_x.columns[x]))\n",
    "    print(\"d %f vs %f (ns)\" % (yin, df_x.index[y]))\n",
    "    \n",
    "    if x <= 0 or x >= len(df_x.columns) - 1:\n",
    "        print(\"Warning : x index (%d) at boundary\" % x)\n",
    "        \n",
    "    if y <= 0 or y >= len(df_x.index) - 1:\n",
    "        print(\"Warning : y index (%d) at boundary\" % y)\n",
    "       \n",
    "        \n",
    "    outputX = df_x.iloc[y,x]\n",
    "    \n",
    "    #\n",
    "    x,y = findClosest(df_y, xin, yin)\n",
    "    #print(df_x.index)\n",
    "    #print(\"x[%f vs %f] (ns) & y[%f vs %f] (V)\" % (xin, df_y.columns[x],yin, df_y.index[y]))\n",
    "    outputY = df_y.iloc[y,x]\n",
    "   \n",
    "        \n",
    "    if x <= 0 or x >= len(df_y.columns) - 1:\n",
    "        print(\"Warning : x index (%d) at boundary\" % x)\n",
    "        #print(\"%f vs %f (ns)\" % (xin, df_y.columns[x]))\n",
    "       \n",
    "    \n",
    "    if y <= 0 or y >= len(df_y.index) - 1:\n",
    "        print(\"Warning : y index (%d) at boundary\" % y)\n",
    "        #print(\"%f vs %f (ns)\" % (yin, df_y.index[y]))\n",
    "        \n",
    "    \n",
    "    return outputX, outputY\n",
    "\n",
    "vpre_df_amp, vpre_df_width = loadModel('cz_vpre_V2.csv', 19, offset=0)\n",
    "bg_df_amp, bg_df_width = loadModel('cz_bandgap_V2.csv', 14, offset=9)\n",
    "reg_df_amp, reg_df_width = loadModel('cz_regulator_V2.csv', 14, offset=1)"
   ]
  },
  {
   "cell_type": "code",
   "execution_count": 114,
   "metadata": {
    "collapsed": false
   },
   "outputs": [
    {
     "name": "stdout",
     "output_type": "stream",
     "text": [
      "d 1000.000000 vs 1000.000000 (ns)\n",
      "d -50.000000 vs -50.000000 (ns)\n",
      "Warning : x index (29) at boundary\n",
      "Warning : y index (0) at boundary\n",
      "Warning : x index (29) at boundary\n",
      "Warning : y index (0) at boundary\n",
      "Vpre done\n",
      "d 1000.000000 vs 923.700000 (ns)\n",
      "d -5.331840 vs -5.000000 (ns)\n",
      "Bandgap done\n",
      "d 877.280000 vs 923.700000 (ns)\n",
      "d -1.653780 vs -1.000000 (ns)\n",
      "Warning : y index (0) at boundary\n",
      "Warning : y index (0) at boundary\n",
      "##                       Vpre output values : (1000 ns, -5.33 V)\n",
      "##                    Bandgap output values : (877 ns, -1.65 V)\n",
      "##                  Regulator output values : (291 ns, 2.27 V)\n"
     ]
    }
   ],
   "source": [
    "# Input TLP stress characteristics\n",
    "\n",
    "inputX = 1000 # ns\n",
    "inputY = -50 # V\n",
    "\n",
    "# Apply the models\n",
    "\n",
    "pair1 = findNextPair(vpre_df_width, vpre_df_amp, inputX, inputY)\n",
    "print(\"Vpre done\")\n",
    "pair2 = findNextPair(bg_df_width, bg_df_amp, pair1[0], pair1[1])\n",
    "print(\"Bandgap done\")\n",
    "pair3 = findNextPair(reg_df_width, reg_df_amp, pair2[0], pair2[1])\n",
    "\n",
    "print(\"##                       Vpre output values : (%.0f ns, %.2f V)\" % pair1)\n",
    "print(\"##                    Bandgap output values : (%.0f ns, %.2f V)\" % pair2)\n",
    "print(\"##                  Regulator output values : (%.0f ns, %.2f V)\" % pair3)"
   ]
  }
 ],
 "metadata": {
  "anaconda-cloud": {},
  "kernelspec": {
   "display_name": "Python [conda root]",
   "language": "python",
   "name": "conda-root-py"
  },
  "language_info": {
   "codemirror_mode": {
    "name": "ipython",
    "version": 3
   },
   "file_extension": ".py",
   "mimetype": "text/x-python",
   "name": "python",
   "nbconvert_exporter": "python",
   "pygments_lexer": "ipython3",
   "version": "3.5.1"
  }
 },
 "nbformat": 4,
 "nbformat_minor": 1
}
