{
 "cells": [
  {
   "cell_type": "code",
   "execution_count": 4,
   "metadata": {
    "collapsed": false
   },
   "outputs": [],
   "source": [
    "import matplotlib.pyplot as plt\n",
    "import numpy as np\n",
    "import numpy as np\n",
    "import matplotlib.pyplot as plt\n",
    "import os\n",
    "import collections\n",
    "import pandas as pd\n",
    "import matplotlib as mp\n",
    "from matplotlib import gridspec\n",
    "from matplotlib.patches import Rectangle\n",
    "\n",
    "# Read simulation files\n",
    "def datafileread(measurename,skipfirstrows):\n",
    "    # Reading Datafiles\n",
    "    path = measurename\n",
    "    data = np.genfromtxt(path,\n",
    "                        skip_header=skipfirstrows,\n",
    "                        delimiter=' ',\n",
    "                        dtype=(float,float),\n",
    "                        unpack=True)\n",
    "    return data\n",
    "\n",
    "# measurement\n",
    "time, enable_in, clock, rstb, serial_out, enable_out = datafileread('read_cell_chronogram.csv',1)\n"
   ]
  },
  {
   "cell_type": "code",
   "execution_count": 6,
   "metadata": {
    "collapsed": false
   },
   "outputs": [
    {
     "data": {
      "image/png": "[encoded data removed]",
      "text/plain": [
       "<matplotlib.figure.Figure at 0x76f6090>"
      ]
     },
     "metadata": {},
     "output_type": "display_data"
    }
   ],
   "source": [
    "plt.figure(figsize=(10, 3.5)) \n",
    "\n",
    "plt.plot(time, enable_in)\n",
    "\n",
    "plt.tight_layout()\n",
    "#plt.legend(loc=\"best\")\n",
    "\n",
    "plt.show()"
   ]
  }
 ],
 "metadata": {
  "anaconda-cloud": {},
  "kernelspec": {
   "display_name": "Python [conda root]",
   "language": "python",
   "name": "conda-root-py"
  },
  "language_info": {
   "codemirror_mode": {
    "name": "ipython",
    "version": 3
   },
   "file_extension": ".py",
   "mimetype": "text/x-python",
   "name": "python",
   "nbconvert_exporter": "python",
   "pygments_lexer": "ipython3",
   "version": "3.5.1"
  }
 },
 "nbformat": 4,
 "nbformat_minor": 1
}
